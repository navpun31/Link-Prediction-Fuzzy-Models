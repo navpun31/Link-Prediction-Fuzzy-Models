{
 "cells": [
  {
   "cell_type": "code",
   "execution_count": 20,
   "metadata": {
    "collapsed": true
   },
   "outputs": [],
   "source": [
    "# Initial imports\n",
    "import networkx as nx\n",
    "import matplotlib.pyplot as plt\n",
    "import random\n",
    "from random import shuffle\n",
    "from math import *\n",
    "import numpy as np\n",
    "%matplotlib inline"
   ]
  },
  {
   "cell_type": "code",
   "execution_count": 21,
   "metadata": {
    "_cell_guid": "0c073cfe-cd1c-4440-862f-1f3e30d7196f",
    "_uuid": "5e355a33a532179c68fa5e908d5215cab9b22444"
   },
   "outputs": [
    {
     "name": "stdout",
     "output_type": "stream",
     "text": [
      "Name: Observed Links\n",
      "Type: Graph\n",
      "Number of nodes: 1589\n",
      "Number of edges: 2742\n",
      "Average degree:   3.4512 \n",
      "\n",
      "Name: Training Links\n",
      "Type: Graph\n",
      "Number of nodes: 1589\n",
      "Number of edges: 1920\n",
      "Average degree:   2.4166 \n",
      "\n",
      "Probe Edge Set\n",
      "Number of edges: 822\n"
     ]
    }
   ],
   "source": [
    "# Loading the network\n",
    "observed = nx.read_gml('netscience.gml',label=\"id\")\n",
    "observed = nx.Graph(observed, name=\"Observed Links\")\n",
    "\n",
    "random.seed(1000)\n",
    "\n",
    "probe_size = int(0.3*(observed.number_of_edges()))\n",
    "probe_edge_set = random.sample(list(observed.edges()),probe_size)\n",
    "\n",
    "training = nx.Graph(observed, name=\"Training Links\")\n",
    "for i in probe_edge_set:\n",
    "    training.remove_edge(i[0],i[1])\n",
    "\n",
    "print(nx.info(observed), \"\\n\")\n",
    "print(nx.info(training), \"\\n\")\n",
    "print(\"Probe Edge Set\\nNumber of edges:\", len(probe_edge_set))"
   ]
  },
  {
   "cell_type": "code",
   "execution_count": 22,
   "metadata": {
    "collapsed": true
   },
   "outputs": [],
   "source": [
    "def _apply_prediction(G, f, ebunch=None):\n",
    "    \"\"\"Applies the given function to each edge in the specified iterable of edges.\n",
    "\n",
    "    'G' is an instance of :class:'networkx.Graph'.\n",
    "\n",
    "    'f' is a function on two inputs, each of which is a node in the graph.\n",
    "    The function can return anything, but it should return a value \n",
    "    representing a prediction of the score of a \"link\" joining the two nodes.\n",
    "\n",
    "    'ebunch' is an iterable of pairs of nodes. If not specified, all non-edges in the graph 'G' will be used.\n",
    "    \"\"\"\n",
    "    if ebunch is None:\n",
    "        ebunch = nx.non_edges(G)\n",
    "    return [(u, v, f(u, v)) for u, v in ebunch]"
   ]
  },
  {
   "cell_type": "code",
   "execution_count": 23,
   "metadata": {
    "collapsed": true
   },
   "outputs": [],
   "source": [
    "# ====================================================\n",
    "# CALCULATING/PLOTTING AUC : AREA UNDER ROC CURVE\n",
    "# ====================================================\n",
    "def AUC(score_probe,score_non_existent):\n",
    "    N = min(len(score_probe),len(score_non_existent))\n",
    "    shuffle(score_probe)\n",
    "    shuffle(score_non_existent)\n",
    "    \n",
    "    n1 = n2 = n3 = 0\n",
    "    for i in range(N):\n",
    "        probe_edge = score_probe[i]\n",
    "        non_ex_edge = score_non_existent[i]\n",
    "        if probe_edge[2] > non_ex_edge[2]:\n",
    "            n1 += 1\n",
    "        elif probe_edge[2] < non_ex_edge[2]:\n",
    "            n3 += 1\n",
    "        else:\n",
    "            n2 += 1\n",
    "\n",
    "    tp = tn = n1 + n2/2\n",
    "    fp = fn = N - tp\n",
    "    \n",
    "    AUC = 0\n",
    "    if N > 0:\n",
    "        AUC = tp / N\n",
    "    return AUC   \n",
    "\n",
    "\n",
    "def plot(mins,maxs,means,vals,names):\n",
    "#     fig,(sub,box) = plt.subplots(ncols = 2, figsize = (15,5))\n",
    "    \n",
    "    fig = plt.figure(1)\n",
    "    sub = fig.add_subplot(111)\n",
    "    fig2 = plt.figure(2)\n",
    "    box = fig2.add_subplot(111)\n",
    "    \n",
    "    tests = len(names)\n",
    "    iters = 0\n",
    "    if tests > 0:\n",
    "        iters = len(vals[0])\n",
    "\n",
    "#   Line Plot\n",
    "    for i in range(tests):\n",
    "        name = names[i]\n",
    "        l = vals[i]\n",
    "        sub.plot(range(1,len(l)+1),l,'-o',label=name)\n",
    "        \n",
    "    sub.set_title(\"Area Under ROC Curve\")\n",
    "    sub.set_xlabel('Iteration')\n",
    "    sub.set_ylabel('AUC')\n",
    "    sub.set_xticks(np.arange(1, iters+1, 1.0))\n",
    "    sub.set_yticks(np.arange(0, 1.1, 0.1))\n",
    "\n",
    "    sub.legend(loc='center left', bbox_to_anchor=(1.0, 0.5))\n",
    "#     sub.legend(loc='center left', bbox_to_anchor=(0.5, -0.4))\n",
    "    sub.axhline(0.5, linestyle='--', color='k')\n",
    "    sub.yaxis.grid()\n",
    "\n",
    "#   Box Plot\n",
    "    box.set_title(\"Area Under ROC Curve\")\n",
    "    box.set_ylabel('AUC')\n",
    "    plt.yticks(np.arange(0, 1.1, 0.1))\n",
    "    plt.xticks(rotation=90)\n",
    "    box.axis(ymin=0,ymax=1)\n",
    "    box.axhline(0.5, linestyle='--', color='k')\n",
    "    box.yaxis.grid()\n",
    "\n",
    "    box.errorbar(names, means, fmt='sb', lw=3)\n",
    "    box.errorbar(names, means, \n",
    "                 [np.array(means)-np.array(mins), np.array(maxs)-np.array(means)],\n",
    "                 fmt='.b', ecolor='blue', lw=1,capsize=3,capthick=3,ms=9,markerfacecolor='none',mew=1)\n",
    "    plt.show()\n",
    "    \n",
    "\n",
    "def plotAUC(metrics,N=100,T=10):\n",
    "    mins = []\n",
    "    maxs = []\n",
    "    means = []\n",
    "    names = []\n",
    "    vals = []\n",
    "    for name,f in metrics.items():\n",
    "        l = []\n",
    "        for i in range(T):\n",
    "            pro = random.sample(probe_edge_set, N)\n",
    "            score_probe = f(training, pro)\n",
    "            non_e = random.sample(list(nx.non_edges(observed)), N)\n",
    "            score_non_existent = f(training, non_e)\n",
    "\n",
    "            l += [AUC(score_probe,score_non_existent)]\n",
    "\n",
    "        AUCrange = (min(l), max(l), sum(l)/float(len(l)))\n",
    "        vals.append(l)\n",
    "        mins.append(AUCrange[0])\n",
    "        maxs.append(AUCrange[1])\n",
    "        means.append(AUCrange[2])\n",
    "        names.append(name)\n",
    "        print(name,':',AUCrange)\n",
    "\n",
    "    plot(mins,maxs,means,vals,names)"
   ]
  },
  {
   "cell_type": "markdown",
   "metadata": {
    "_uuid": "88c85fd11dff31079db2571f4bda8db6ce15f9b9"
   },
   "source": [
    "# Crisp Logic for Link Prediction\n",
    "---\n",
    "## Similarity Metrics\n",
    "* Graph Distance\n",
    "* Common Neighbours\n",
    "* Jaccard's Coefficient\n",
    "* Adamic/Adar (Frequency-Weighted Common Neighbours)\n",
    "* Resource Allocation Index\n",
    "* Preferential Attachment\n",
    "* Katz (Exponentially Damped Path Counts)\n",
    "* Weighted Clustering Coefficient"
   ]
  },
  {
   "cell_type": "code",
   "execution_count": 24,
   "metadata": {
    "_uuid": "21f6bc661b53c814e6cbd6930a55bc71deb98310",
    "collapsed": true
   },
   "outputs": [],
   "source": [
    "# ====================================================\n",
    "# CRISP LOGIC : SIMILARITY METRICS\n",
    "# ====================================================\n",
    "def graph_distance(G, ebunch=None):\n",
    "    \"\"\"Compute the score based on shortest path length (number of nodes in the path).\n",
    "    \"\"\"\n",
    "    def predict(u, v):\n",
    "        try:\n",
    "            return -nx.shortest_path_length(G,source=u,target=v)\n",
    "        except:\n",
    "            return -observed.number_of_nodes()\n",
    "    return _apply_prediction(G, predict, ebunch)\n",
    "\n",
    "\n",
    "def path_length(G, ebunch=None):\n",
    "    \"\"\"Compute the score based on shortest path length (sum of weights).\n",
    "    \"\"\"\n",
    "    def predict(u, v):\n",
    "        try:\n",
    "            return -nx.shortest_path_length(G,source=u,target=v,weight='value')\n",
    "        except:\n",
    "            return -observed.number_of_nodes()\n",
    "    return _apply_prediction(G, predict, ebunch)\n",
    "\n",
    "\n",
    "def common_neighbors(G, ebunch=None):\n",
    "    \"\"\"Compute the Common Neighbours of all node pairs in ebunch.\n",
    "    \"\"\"\n",
    "    def predict(u, v):\n",
    "        return len(list(nx.common_neighbors(G, u, v)))\n",
    "    return _apply_prediction(G, predict, ebunch)\n",
    "\n",
    "\n",
    "def jaccard_coefficient(G, ebunch=None):\n",
    "    \"\"\"Compute the Jaccard coefficient of all node pairs in ebunch.\n",
    "    \"\"\"\n",
    "    def predict(u, v):\n",
    "        union_size = len(set(G[u]) | set(G[v]))\n",
    "        if union_size == 0:\n",
    "            return 0\n",
    "        return len(list(nx.common_neighbors(G, u, v))) / union_size\n",
    "    return _apply_prediction(G, predict, ebunch)\n",
    "\n",
    "\n",
    "def adamic_adar_index(G, ebunch=None):\n",
    "    \"\"\"Compute the Adamic-Adar index of all node pairs in ebunch.\n",
    "    \"\"\"\n",
    "    def predict(u, v):\n",
    "        return sum(1 / log(G.degree(w)) for w in nx.common_neighbors(G, u, v))\n",
    "    return _apply_prediction(G, predict, ebunch)\n",
    "\n",
    "\n",
    "def resource_allocation_index(G, ebunch=None):\n",
    "    \"\"\"Compute the resource allocation index of all node pairs in ebunch.\n",
    "    \"\"\"\n",
    "    def predict(u, v):\n",
    "        return sum(1 / G.degree(w) for w in nx.common_neighbors(G, u, v))\n",
    "    return _apply_prediction(G, predict, ebunch)\n",
    "\n",
    "\n",
    "def preferential_attachment(G, ebunch=None):\n",
    "    \"\"\"Compute the preferential attachment score of all node pairs in ebunch.\n",
    "    \"\"\"\n",
    "    def predict(u, v):\n",
    "        return G.degree(u) * G.degree(v)\n",
    "    return _apply_prediction(G, predict, ebunch)\n",
    "\n",
    "\n",
    "def clustering_coefficient(G, ebunch=None):\n",
    "    \"\"\"Compute the Clustering Coefficient score of all node pairs in ebunch.\n",
    "    \"\"\"\n",
    "    def predict(u, v):\n",
    "        return nx.clustering(G,u) + nx.clustering(G,v)\n",
    "    return _apply_prediction(G, predict, ebunch)\n",
    "\n",
    "\n",
    "def weighted_clustering_coefficient(G, ebunch=None):\n",
    "    \"\"\"Compute the Weighted Clustering Coefficient score of all node pairs in ebunch.\n",
    "    \"\"\"\n",
    "    def predict(u, v):\n",
    "        return nx.clustering(G,u,weight='value') + nx.clustering(G,v,weight='value')\n",
    "    return _apply_prediction(G, predict, ebunch)"
   ]
  },
  {
   "cell_type": "markdown",
   "metadata": {
    "_uuid": "a60147490e6abd4de6ab5690089ccc4646cee745"
   },
   "source": [
    "# Fuzzy Logic for Link Prediction\n",
    "---\n",
    "## Clustering Coefficient\n",
    "An important concept that shows how much the neighbors of a node are related to each other is the clustering coefficient (CC). This measure calculates the number of triangles over the number of possible triangles related to the node. CC is based on the clique concept. If S shows a clique in the graph, then the following criteria can define the clique: \n",
    "* C1 : “Most of the elements in S are closely connected.” \n",
    "* C2 : “None of the elements in S are too far from the others.” \n",
    "* C3 : “No element not on the clique is better connected to the members of a clique than any element in the clique.” \n",
    "\n",
    "In the above-mentioned criteria, there are some functions that should be defined as fuzzy terms."
   ]
  },
  {
   "cell_type": "markdown",
   "metadata": {
    "_uuid": "011192f282add0200eb9252f20fc127363724368"
   },
   "source": [
    "### Close"
   ]
  },
  {
   "cell_type": "code",
   "execution_count": 25,
   "metadata": {
    "_uuid": "631c2eff7dc7892dd49fb609f5c7c24c93ab12ab",
    "collapsed": true
   },
   "outputs": [],
   "source": [
    "def Close(G,u,v,path=None):\n",
    "    '''\n",
    "    Takes in a clique G and two of its nodes\n",
    "    Returns the \"Close\" value of the two nodes\n",
    "    '''\n",
    "    if not path:\n",
    "        try:\n",
    "            path = nx.shortest_path(G,source=u,target=v,weight='value')\n",
    "        except:\n",
    "            return 0\n",
    "    \n",
    "    q = len(path)-1\n",
    "    path_len = 0.0\n",
    "    for i in range(q):\n",
    "        path_len += G[path[i]][path[i+1]]['value']\n",
    "    \n",
    "    if q < 2:\n",
    "        return 1\n",
    "    elif q > 3:\n",
    "        return 0\n",
    "    else:\n",
    "        return path_len/float(2.0*(pow(10,q-2)))"
   ]
  },
  {
   "cell_type": "markdown",
   "metadata": {
    "_uuid": "c68c0738281b0cf437167b7d08034a375726d531"
   },
   "source": [
    "### Most"
   ]
  },
  {
   "cell_type": "code",
   "execution_count": 26,
   "metadata": {
    "_uuid": "4cb3cb2685d347296ed5564da4e508f3f3676c84",
    "collapsed": true
   },
   "outputs": [],
   "source": [
    "def Most(G,nodes,u,alpha=0.3,beta=0.7):\n",
    "    '''\n",
    "    Returns the \"Most\" value of the given node of the clique\n",
    "    '''\n",
    "    if len(nodes) == 0:\n",
    "        return 0\n",
    "    \n",
    "    p = 0\n",
    "    for v in nodes:\n",
    "        p += Close(G,u,v)\n",
    "    p /= float(len(nodes))\n",
    "    \n",
    "    if p <= alpha:\n",
    "        return 0\n",
    "    elif p <= beta:\n",
    "        return (p-alpha)/float(beta-alpha)\n",
    "    else:\n",
    "        return 1"
   ]
  },
  {
   "cell_type": "markdown",
   "metadata": {
    "_uuid": "013afc00bd2fa5fb6789656866c5a053121b4fba"
   },
   "source": [
    "### Not Far"
   ]
  },
  {
   "cell_type": "code",
   "execution_count": 27,
   "metadata": {
    "_cell_guid": "b9f4a19e-64c2-41f1-a526-12b34341ab28",
    "_uuid": "e2fa8a4ebd2afe29fe59a99d4d696db438d69056",
    "collapsed": true
   },
   "outputs": [],
   "source": [
    "def R(G,x,y,k):\n",
    "    '''\n",
    "    Takes in Graph G, source x, target y and path length k    \n",
    "    Returns R\n",
    "    R = 1 if there exists a path containing atleast 'k' links\n",
    "    R = 0 else\n",
    "    '''\n",
    "    paths = nx.all_simple_paths(G,source=x,target=y,cutoff=k)\n",
    "    for path in paths:\n",
    "        if len(path) >= k:\n",
    "            return 1\n",
    "    return 0\n",
    "\n",
    "def Far(k,alpha=1.5,beta=3.5):\n",
    "    '''\n",
    "    Heaviside Step Function that denotes if a certain path length is \"far\" or not\n",
    "    '''\n",
    "    if k <= alpha:\n",
    "        return 0\n",
    "    elif k <= beta:\n",
    "        return (k-alpha)/float(beta-alpha)\n",
    "    else:\n",
    "        return 1\n",
    "\n",
    "def NotFar(G,x,y,n):\n",
    "    '''\n",
    "    Returns the NotFar(x,y) value which is given by the formula:\n",
    "    NotFar(x,y) = Max { \n",
    "                        R(x,y)[at k] AND 1-Far(k) \n",
    "                    } over k, 1<=k<=n \n",
    "    '''\n",
    "    notfar = 0\n",
    "    for k in range(1,n):\n",
    "        if R(G,x,y,k) == 0:\n",
    "            break\n",
    "        notfar = max(notfar,1.0-Far(k))\n",
    "    return notfar"
   ]
  },
  {
   "cell_type": "markdown",
   "metadata": {
    "_uuid": "3f3788374618c78140fef231a6a44003543e26d9"
   },
   "source": [
    "### First Criterion\n",
    "**“Most of the elements in S are closely connected.”** In the first criterion, the first fuzzy term is the concept of close,  which  means  how  much  two  nodes  are  closely connected. The close concept can be defined as a path with a minimum length that connects two nodes to each other."
   ]
  },
  {
   "cell_type": "code",
   "execution_count": 28,
   "metadata": {
    "_uuid": "f17cf2b5ed32c1bc9aedec00bf9bce4d4e73fc9a",
    "collapsed": true
   },
   "outputs": [],
   "source": [
    "def C1(G,nodes,x):\n",
    "    return Most(G,nodes,x)"
   ]
  },
  {
   "cell_type": "markdown",
   "metadata": {
    "_uuid": "59f8d96fcb9982530354bee9e055bcfdf95fd368"
   },
   "source": [
    "### Second Criterion\n",
    "**“None of the elements in S are too far from the others.”** In the second criterion of the cluster, there are Far and Not Far concepts."
   ]
  },
  {
   "cell_type": "code",
   "execution_count": 29,
   "metadata": {
    "_uuid": "d3c6453dce132231953bb71214c5bc060bbb1c16",
    "collapsed": true
   },
   "outputs": [],
   "source": [
    "def C2(G,nodes,x):\n",
    "    c2 = 1\n",
    "    for y in nodes:\n",
    "        c2 = min(c2,NotFar(G,x,y,len(nodes)))\n",
    "    return c2"
   ]
  },
  {
   "cell_type": "markdown",
   "metadata": {
    "_uuid": "3e6cbf51426a608b1bbd878b6f5c31dd0f43feef"
   },
   "source": [
    "### Third Criterion\n",
    "**“No element not on the clique is better connected to the members of a clique than any element in the clique.” ** In the third criterion, every node out of the cluster of considered nodes should not be close to most of the nodes in the cluster."
   ]
  },
  {
   "cell_type": "code",
   "execution_count": 30,
   "metadata": {
    "_uuid": "6e2efa36de4b58050e570ac9824288c29eebeac9",
    "collapsed": true
   },
   "outputs": [],
   "source": [
    "def C3(G,nodes,x):\n",
    "    rest_list = random.sample(G.nodes(),2*len(nodes))\n",
    "    rest_set = set(rest_list) - set(nodes+[x])\n",
    "    rest_list = random.sample(list(rest_set),len(nodes))\n",
    "    \n",
    "    m1 = Most(G,nodes,x)\n",
    "    m2 = Most(G,list(rest_list),x)\n",
    "    \n",
    "    if m1 > m2:\n",
    "        return 1\n",
    "    else:\n",
    "        return 0"
   ]
  },
  {
   "cell_type": "code",
   "execution_count": 31,
   "metadata": {},
   "outputs": [
    {
     "name": "stdout",
     "output_type": "stream",
     "text": [
      "Cliques Stored\n"
     ]
    }
   ],
   "source": [
    "# ====================================================\n",
    "# CLIQUES\n",
    "# ====================================================\n",
    "cliques = nx.cliques_containing_node(training,nodes=list(range(observed.number_of_nodes())))\n",
    "for key,c in cliques.items():\n",
    "    c = sorted(c, key = lambda x : -len(x))\n",
    "    cliques[key] = c\n",
    "print(\"Cliques Stored\")"
   ]
  },
  {
   "cell_type": "code",
   "execution_count": 32,
   "metadata": {
    "collapsed": true,
    "scrolled": true
   },
   "outputs": [],
   "source": [
    "# ====================================================\n",
    "# FUZZY CLUSTERING COEFFICIENT\n",
    "# ====================================================\n",
    "def fcc(G,x):\n",
    "    nodes = cliques[x][0]\n",
    "    nodes = list(set(nodes) - set([x]))\n",
    "    cc = min(C1(G,nodes,x),C2(G,nodes,x),C3(G,nodes,x))\n",
    "    return cc\n",
    "\n",
    "def fuzzy_clustering_coefficient(G, ebunch=None):\n",
    "    \"\"\"Compute the Fuzzy Clustering Coefficient score of all node pairs in ebunch.\n",
    "    \"\"\"\n",
    "    def predict(u, v):\n",
    "        return fcc(G,u)+fcc(G,v)\n",
    "    return _apply_prediction(G, predict, ebunch)"
   ]
  },
  {
   "cell_type": "code",
   "execution_count": 33,
   "metadata": {
    "collapsed": true
   },
   "outputs": [],
   "source": [
    "# ====================================================\n",
    "# FUZZY CLUSTER OVERLAP INDEX\n",
    "# ====================================================\n",
    "def cluster_x(G,x,K,N):\n",
    "    cluster_x = 0.0\n",
    "    nodes = random.sample(range(G.number_of_nodes()),N)\n",
    "    for node in nodes:\n",
    "        if node == x:\n",
    "            continue\n",
    "        paths = nx.all_simple_paths(G,source=x,target=node,cutoff=K)\n",
    "        for path in paths:\n",
    "            path_len = 0.0\n",
    "            for i in range(len(path)-1):\n",
    "                path_len += G[path[i]][path[i+1]]['value']\n",
    "            cluster_x += path_len\n",
    "    cluster_x = abs(cluster_x)\n",
    "    return cluster_x\n",
    "\n",
    "\n",
    "def oi(G,u,v,K=5,N=100):\n",
    "    paths = nx.all_simple_paths(G,source=u,target=v,cutoff=K)\n",
    "    \n",
    "    close_sum = 0.0\n",
    "    for path in paths:\n",
    "        close_sum += Close(G,u,v,path)\n",
    "\n",
    "    cluster_u = cluster_x(G,u,K,N)\n",
    "    cluster_v = cluster_x(G,v,K,N)\n",
    "    \n",
    "    if cluster_u + cluster_v > 0:\n",
    "        return close_sum / float(cluster_u + cluster_v)\n",
    "    return 0\n",
    "\n",
    "\n",
    "def fuzzy_cluster_overlap(G, ebunch=None):\n",
    "    \"\"\"Compute the Fuzzy Cluster Overlap score of all node pairs in ebunch.\n",
    "    \"\"\"\n",
    "    def predict(u, v):\n",
    "        return oi(G,u,v,K=3,N=120)\n",
    "    return _apply_prediction(G, predict, ebunch)"
   ]
  },
  {
   "cell_type": "code",
   "execution_count": 34,
   "metadata": {
    "scrolled": false
   },
   "outputs": [
    {
     "name": "stdout",
     "output_type": "stream",
     "text": [
      "Graph Distance : (0.87, 0.905, 0.8815)\n",
      "Path Length : (0.875, 0.935, 0.8949999999999999)\n",
      "Common Neighbors : (0.835, 0.91, 0.8735000000000002)\n",
      "Jaccard Coefficient : (0.83, 0.895, 0.866)\n",
      "Adamic/Adar Index : (0.845, 0.91, 0.8765000000000001)\n",
      "Resource Allocation Index : (0.835, 0.905, 0.8744999999999999)\n",
      "Preferential Attachment : (0.595, 0.725, 0.6615)\n",
      "Clustering Coefficient : (0.455, 0.595, 0.5235)\n",
      "Weighted Clustering Coefficient : (0.365, 0.52, 0.43900000000000006)\n"
     ]
    },
    {
     "data": {
      "image/png": "[encoded data removed]",
      "text/plain": [
       "<matplotlib.figure.Figure at 0x7fd1a57e4e10>"
      ]
     },
     "metadata": {},
     "output_type": "display_data"
    },
    {
     "data": {
      "image/png": "[encoded data removed]",
      "text/plain": [
       "<matplotlib.figure.Figure at 0x7fd1a5bfc6a0>"
      ]
     },
     "metadata": {},
     "output_type": "display_data"
    }
   ],
   "source": [
    "metrics = {\n",
    "    \"Graph Distance\" : graph_distance,\n",
    "    \"Path Length\" : path_length,\n",
    "    \"Common Neighbors\" : common_neighbors,\n",
    "    \"Jaccard Coefficient\" : jaccard_coefficient,\n",
    "    \"Adamic/Adar Index\" : adamic_adar_index,\n",
    "    \"Resource Allocation Index\" : resource_allocation_index,\n",
    "    \"Preferential Attachment\" : preferential_attachment,\n",
    "    \"Clustering Coefficient\" : clustering_coefficient,\n",
    "    \"Weighted Clustering Coefficient\" : weighted_clustering_coefficient,\n",
    "}\n",
    "plotAUC(metrics)"
   ]
  },
  {
   "cell_type": "code",
   "execution_count": 35,
   "metadata": {
    "scrolled": false
   },
   "outputs": [
    {
     "name": "stdout",
     "output_type": "stream",
     "text": [
      "CC : (0.48, 0.595, 0.5355)\n",
      "WCC : (0.315, 0.585, 0.43100000000000005)\n",
      "FCC : (0.505, 0.625, 0.5589999999999999)\n",
      "FCO : (0.785, 0.81, 0.7969999999999999)\n"
     ]
    },
    {
     "data": {
      "image/png": "[encoded data removed]",
      "text/plain": [
       "<matplotlib.figure.Figure at 0x7fd1a57d38d0>"
      ]
     },
     "metadata": {},
     "output_type": "display_data"
    },
    {
     "data": {
      "image/png": "[encoded data removed]",
      "text/plain": [
       "<matplotlib.figure.Figure at 0x7fd1a21f0438>"
      ]
     },
     "metadata": {},
     "output_type": "display_data"
    }
   ],
   "source": [
    "metrics = {\n",
    "    \"CC\" : clustering_coefficient,\n",
    "    \"WCC\" : weighted_clustering_coefficient,\n",
    "    \"FCC\" : fuzzy_clustering_coefficient,\n",
    "    \"FCO\" : fuzzy_cluster_overlap,\n",
    "}\n",
    "plotAUC(metrics,N=100,T=10)"
   ]
  }
 ],
 "metadata": {
  "kernelspec": {
   "display_name": "Python 3",
   "language": "python",
   "name": "python3"
  },
  "language_info": {
   "codemirror_mode": {
    "name": "ipython",
    "version": 3
   },
   "file_extension": ".py",
   "mimetype": "text/x-python",
   "name": "python",
   "nbconvert_exporter": "python",
   "pygments_lexer": "ipython3",
   "version": "3.6.3"
  }
 },
 "nbformat": 4,
 "nbformat_minor": 1
}
